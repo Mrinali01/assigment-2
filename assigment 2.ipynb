{
 "cells": [
  {
   "cell_type": "code",
   "execution_count": 2,
   "id": "cbb6afc3-e9a9-4292-b392-efb955699e40",
   "metadata": {},
   "outputs": [
    {
     "name": "stdout",
     "output_type": "stream",
     "text": [
      "0\n",
      "1\n",
      "2\n",
      "3\n",
      "4\n",
      "5\n",
      "6\n",
      "7\n",
      "8\n",
      "9\n"
     ]
    }
   ],
   "source": [
    "#ansr 1\n",
    "#for loop is used to run a python program when we know the number of iterations or the range for the iteration\n",
    "#eg\n",
    "for i in range(10):\n",
    "    print(i)\n",
    "\n",
    "    \n",
    "    "
   ]
  },
  {
   "cell_type": "code",
   "execution_count": 1,
   "id": "d2ddcd68-1b58-4c93-9dac-e93006537b3a",
   "metadata": {},
   "outputs": [
    {
     "name": "stdin",
     "output_type": "stream",
     "text": [
      "enter your number 5\n"
     ]
    },
    {
     "name": "stdout",
     "output_type": "stream",
     "text": [
      "5\n",
      "6\n",
      "7\n",
      "8\n",
      "9\n"
     ]
    }
   ],
   "source": [
    "#ansr 1\n",
    "#while loop is used to run a python program when the number of steps or iteration  or range of the program is unknown\n",
    "#eg\n",
    "n=int(input(\"enter your number\"))\n",
    "a=0\n",
    "while a<n :\n",
    "      c=a+n\n",
    "      print(c)\n",
    "      a=a+1"
   ]
  },
  {
   "cell_type": "code",
   "execution_count": 2,
   "id": "5300502f-2e10-4511-8fc1-dfa050017596",
   "metadata": {},
   "outputs": [
    {
     "name": "stdout",
     "output_type": "stream",
     "text": [
      "sum of first 10 natural numbers is 55\n"
     ]
    }
   ],
   "source": [
    "#ansr 2\n",
    "#sum and product of 10 natural number using for and while loop\n",
    "#1- sum of first 10 n1tural numbers using for loop\n",
    "l=[1,2,3,4,5,6,7,8,9,10]\n",
    "a=0\n",
    "for i in l :\n",
    "    a=a+i\n",
    "print('sum of first 10 natural numbers is ' + str(a))\n",
    "\n",
    "    \n",
    "\n",
    "\n",
    "    "
   ]
  },
  {
   "cell_type": "code",
   "execution_count": 3,
   "id": "e5d4d564-5bc5-4ac8-ad08-d60baac71101",
   "metadata": {},
   "outputs": [
    {
     "name": "stdout",
     "output_type": "stream",
     "text": [
      "product of first 10 natural numbers is 3628800\n"
     ]
    }
   ],
   "source": [
    "#ansr 2\n",
    "#2- product of 10 natural num using for loop\n",
    "a=1\n",
    "for i in l :\n",
    "    a=a*i\n",
    "print(\"product of first 10 natural numbers is \" + str(a))"
   ]
  },
  {
   "cell_type": "code",
   "execution_count": 4,
   "id": "3f9f787f-8a89-44ee-9a84-6885be17de4e",
   "metadata": {},
   "outputs": [
    {
     "name": "stdout",
     "output_type": "stream",
     "text": [
      "sum of 10 natural numbers is 55\n"
     ]
    }
   ],
   "source": [
    "#ansr 2\n",
    "#3- sum of 10 natural numbers using while loop\n",
    "\n",
    "n=10\n",
    "a=0\n",
    "b=1\n",
    "while b<=10 :\n",
    "    a=a+b\n",
    "    b=b+1\n",
    "print('sum of 10 natural numbers is ' + str(a))"
   ]
  },
  {
   "cell_type": "code",
   "execution_count": 5,
   "id": "c66ffede-13de-458f-baa9-2c2e20027bf8",
   "metadata": {},
   "outputs": [
    {
     "name": "stdout",
     "output_type": "stream",
     "text": [
      "product of 10 natural numbers is 3628800\n"
     ]
    }
   ],
   "source": [
    "#ansr 2\n",
    "# 4-product of 10 natural numbers using whiile loop \n",
    "n=10\n",
    "a=1\n",
    "while n>0 :\n",
    "    a=a*n\n",
    "    n=n-1\n",
    "print(\"product of 10 natural numbers is \" + str(a))"
   ]
  },
  {
   "cell_type": "code",
   "execution_count": 2,
   "id": "acf9eb05-7293-4611-9b2a-4172e9e51ff0",
   "metadata": {},
   "outputs": [
    {
     "name": "stdin",
     "output_type": "stream",
     "text": [
      "enter your units 310\n"
     ]
    },
    {
     "name": "stdout",
     "output_type": "stream",
     "text": [
      "your bill is  2250.0\n"
     ]
    }
   ],
   "source": [
    "#ansr3\n",
    "n= int(input('enter your units'))\n",
    "a=100\n",
    "b=100\n",
    "c=100\n",
    "bill=[]\n",
    "if n<=100:\n",
    "        bill =n*4.5\n",
    "elif n>100 and n<=200:\n",
    "        bill =a*4.5+ (n-100)*6\n",
    "elif n>200 and n<=300:\n",
    "        bill = a*4.5 + b*6 + (n-200)*10\n",
    "elif n>300 :\n",
    "        bill= a*4.5 + b*6 + c*10 + (n-300)*20 \n",
    "print(\"your bill is \",bill)"
   ]
  },
  {
   "cell_type": "code",
   "execution_count": 5,
   "id": "3f23cfcc-ea90-4048-a16b-09eff81b00e5",
   "metadata": {},
   "outputs": [
    {
     "data": {
      "text/plain": [
       "[2,\n",
       " 4,\n",
       " 5,\n",
       " 6,\n",
       " 8,\n",
       " 10,\n",
       " 12,\n",
       " 14,\n",
       " 15,\n",
       " 16,\n",
       " 18,\n",
       " 20,\n",
       " 22,\n",
       " 24,\n",
       " 25,\n",
       " 26,\n",
       " 28,\n",
       " 30,\n",
       " 32,\n",
       " 34,\n",
       " 35,\n",
       " 36,\n",
       " 38,\n",
       " 40,\n",
       " 42,\n",
       " 44,\n",
       " 45,\n",
       " 46,\n",
       " 48,\n",
       " 50,\n",
       " 52,\n",
       " 54,\n",
       " 55,\n",
       " 56,\n",
       " 58,\n",
       " 60,\n",
       " 62,\n",
       " 64,\n",
       " 65,\n",
       " 66,\n",
       " 68,\n",
       " 70,\n",
       " 72,\n",
       " 74,\n",
       " 75,\n",
       " 76,\n",
       " 78,\n",
       " 80,\n",
       " 82,\n",
       " 84,\n",
       " 85,\n",
       " 86,\n",
       " 88,\n",
       " 90,\n",
       " 92,\n",
       " 94,\n",
       " 95,\n",
       " 96,\n",
       " 98,\n",
       " 100]"
      ]
     },
     "execution_count": 5,
     "metadata": {},
     "output_type": "execute_result"
    }
   ],
   "source": [
    "#ansr4\n",
    "#1\n",
    "l=[]\n",
    "for i in range(1,101):\n",
    "    if (i**3)%4==0 or (i**3)%5==0:\n",
    "        l.append(i)\n",
    "        \n",
    "l   "
   ]
  },
  {
   "cell_type": "code",
   "execution_count": 6,
   "id": "0e9d07e6-e0ad-4e76-9f87-fd5548d778cb",
   "metadata": {},
   "outputs": [
    {
     "data": {
      "text/plain": [
       "[2,\n",
       " 4,\n",
       " 5,\n",
       " 6,\n",
       " 8,\n",
       " 10,\n",
       " 12,\n",
       " 14,\n",
       " 15,\n",
       " 16,\n",
       " 18,\n",
       " 20,\n",
       " 22,\n",
       " 24,\n",
       " 25,\n",
       " 26,\n",
       " 28,\n",
       " 30,\n",
       " 32,\n",
       " 34,\n",
       " 35,\n",
       " 36,\n",
       " 38,\n",
       " 40,\n",
       " 42,\n",
       " 44,\n",
       " 45,\n",
       " 46,\n",
       " 48,\n",
       " 50,\n",
       " 52,\n",
       " 54,\n",
       " 55,\n",
       " 56,\n",
       " 58,\n",
       " 60,\n",
       " 62,\n",
       " 64,\n",
       " 65,\n",
       " 66,\n",
       " 68,\n",
       " 70,\n",
       " 72,\n",
       " 74,\n",
       " 75,\n",
       " 76,\n",
       " 78,\n",
       " 80,\n",
       " 82,\n",
       " 84,\n",
       " 85,\n",
       " 86,\n",
       " 88,\n",
       " 90,\n",
       " 92,\n",
       " 94,\n",
       " 95,\n",
       " 96,\n",
       " 98,\n",
       " 100]"
      ]
     },
     "execution_count": 6,
     "metadata": {},
     "output_type": "execute_result"
    }
   ],
   "source": [
    "#ansr4\n",
    "#2\n",
    "l=[]\n",
    "a=1\n",
    "while a<=100 :\n",
    "    cube =a**3\n",
    "    if cube%4==0 or cube%5==0:\n",
    "        l.append(a)\n",
    "    a=a+1\n",
    "\n",
    "l"
   ]
  },
  {
   "cell_type": "code",
   "execution_count": 2,
   "id": "56062f93-c07f-4901-b312-5b8528477331",
   "metadata": {},
   "outputs": [
    {
     "name": "stdout",
     "output_type": "stream",
     "text": [
      "number of vowel in a is  12\n"
     ]
    }
   ],
   "source": [
    "#ansr 5\n",
    "a=\"i want to become a data scientist \"\n",
    "a=a.lower()\n",
    "\n",
    "count = 0\n",
    "vowel =['a','e','i','o','u']\n",
    "for i in a :\n",
    "    if i in vowel :\n",
    "        count = count+1 \n",
    "print('number of vowel in a is ', count )\n"
   ]
  },
  {
   "cell_type": "code",
   "execution_count": null,
   "id": "812d94c8-11e8-4c87-b113-6639131d75c8",
   "metadata": {},
   "outputs": [],
   "source": []
  }
 ],
 "metadata": {
  "kernelspec": {
   "display_name": "Python 3 (ipykernel)",
   "language": "python",
   "name": "python3"
  },
  "language_info": {
   "codemirror_mode": {
    "name": "ipython",
    "version": 3
   },
   "file_extension": ".py",
   "mimetype": "text/x-python",
   "name": "python",
   "nbconvert_exporter": "python",
   "pygments_lexer": "ipython3",
   "version": "3.10.8"
  }
 },
 "nbformat": 4,
 "nbformat_minor": 5
}
